{
  "cells": [
    {
      "cell_type": "markdown",
      "metadata": {
        "id": "view-in-github",
        "colab_type": "text"
      },
      "source": [
        "<a href=\"https://colab.research.google.com/github/NavyasriAmalapurapu/Navyasri/blob/main/Welcome_To_Colab.ipynb\" target=\"_parent\"><img src=\"https://colab.research.google.com/assets/colab-badge.svg\" alt=\"Open In Colab\"/></a>"
      ]
    },
    {
      "cell_type": "markdown",
      "source": [
        "# *1.Data Loading and Inspection*"
      ],
      "metadata": {
        "id": "aeqwuXVWzmWt"
      }
    },
    {
      "cell_type": "markdown",
      "source": [
        "### 1.Load the dataset into a Pandas DataFrame.\n",
        "\n"
      ],
      "metadata": {
        "id": "0KoFNRkEzwVt"
      }
    },
    {
      "cell_type": "code",
      "source": [
        "import pandas as pd\n",
        "import numpy as np\n",
        "data=pd.read_csv('/content/retail_sales_dataset.csv')\n"
      ],
      "metadata": {
        "id": "w8mwa9_Vz3A9"
      },
      "execution_count": null,
      "outputs": []
    },
    {
      "cell_type": "markdown",
      "source": [
        "### 2.Display the first 10 rows of the dataset.\n"
      ],
      "metadata": {
        "id": "kR4gLhEA0Mz-"
      }
    },
    {
      "cell_type": "code",
      "source": [
        "data.head(10)"
      ],
      "metadata": {
        "colab": {
          "base_uri": "https://localhost:8080/",
          "height": 363
        },
        "id": "cavLwxyN0Oc1",
        "outputId": "9a937f14-49dc-4016-b481-198fb22280d4"
      },
      "execution_count": null,
      "outputs": [
        {
          "output_type": "execute_result",
          "data": {
            "text/plain": [
              "   Transaction ID        Date Customer ID  Gender  Age Product Category  \\\n",
              "0               1  2023-11-24     CUST001    Male   34           Beauty   \n",
              "1               2  2023-02-27     CUST002  Female   26         Clothing   \n",
              "2               3  2023-01-13     CUST003    Male   50      Electronics   \n",
              "3               4  2023-05-21     CUST004    Male   37         Clothing   \n",
              "4               5  2023-05-06     CUST005    Male   30           Beauty   \n",
              "5               6  2023-04-25     CUST006  Female   45           Beauty   \n",
              "6               7  2023-03-13     CUST007    Male   46         Clothing   \n",
              "7               8  2023-02-22     CUST008    Male   30      Electronics   \n",
              "8               9  2023-12-13     CUST009    Male   63      Electronics   \n",
              "9              10  2023-10-07     CUST010  Female   52         Clothing   \n",
              "\n",
              "   Quantity  Price per Unit  Total Amount  \n",
              "0         3              50           150  \n",
              "1         2             500          1000  \n",
              "2         1              30            30  \n",
              "3         1             500           500  \n",
              "4         2              50           100  \n",
              "5         1              30            30  \n",
              "6         2              25            50  \n",
              "7         4              25           100  \n",
              "8         2             300           600  \n",
              "9         4              50           200  "
            ],
            "text/html": [
              "\n",
              "  <div id=\"df-2449824a-fb3f-4caf-ae94-87064d28b860\" class=\"colab-df-container\">\n",
              "    <div>\n",
              "<style scoped>\n",
              "    .dataframe tbody tr th:only-of-type {\n",
              "        vertical-align: middle;\n",
              "    }\n",
              "\n",
              "    .dataframe tbody tr th {\n",
              "        vertical-align: top;\n",
              "    }\n",
              "\n",
              "    .dataframe thead th {\n",
              "        text-align: right;\n",
              "    }\n",
              "</style>\n",
              "<table border=\"1\" class=\"dataframe\">\n",
              "  <thead>\n",
              "    <tr style=\"text-align: right;\">\n",
              "      <th></th>\n",
              "      <th>Transaction ID</th>\n",
              "      <th>Date</th>\n",
              "      <th>Customer ID</th>\n",
              "      <th>Gender</th>\n",
              "      <th>Age</th>\n",
              "      <th>Product Category</th>\n",
              "      <th>Quantity</th>\n",
              "      <th>Price per Unit</th>\n",
              "      <th>Total Amount</th>\n",
              "    </tr>\n",
              "  </thead>\n",
              "  <tbody>\n",
              "    <tr>\n",
              "      <th>0</th>\n",
              "      <td>1</td>\n",
              "      <td>2023-11-24</td>\n",
              "      <td>CUST001</td>\n",
              "      <td>Male</td>\n",
              "      <td>34</td>\n",
              "      <td>Beauty</td>\n",
              "      <td>3</td>\n",
              "      <td>50</td>\n",
              "      <td>150</td>\n",
              "    </tr>\n",
              "    <tr>\n",
              "      <th>1</th>\n",
              "      <td>2</td>\n",
              "      <td>2023-02-27</td>\n",
              "      <td>CUST002</td>\n",
              "      <td>Female</td>\n",
              "      <td>26</td>\n",
              "      <td>Clothing</td>\n",
              "      <td>2</td>\n",
              "      <td>500</td>\n",
              "      <td>1000</td>\n",
              "    </tr>\n",
              "    <tr>\n",
              "      <th>2</th>\n",
              "      <td>3</td>\n",
              "      <td>2023-01-13</td>\n",
              "      <td>CUST003</td>\n",
              "      <td>Male</td>\n",
              "      <td>50</td>\n",
              "      <td>Electronics</td>\n",
              "      <td>1</td>\n",
              "      <td>30</td>\n",
              "      <td>30</td>\n",
              "    </tr>\n",
              "    <tr>\n",
              "      <th>3</th>\n",
              "      <td>4</td>\n",
              "      <td>2023-05-21</td>\n",
              "      <td>CUST004</td>\n",
              "      <td>Male</td>\n",
              "      <td>37</td>\n",
              "      <td>Clothing</td>\n",
              "      <td>1</td>\n",
              "      <td>500</td>\n",
              "      <td>500</td>\n",
              "    </tr>\n",
              "    <tr>\n",
              "      <th>4</th>\n",
              "      <td>5</td>\n",
              "      <td>2023-05-06</td>\n",
              "      <td>CUST005</td>\n",
              "      <td>Male</td>\n",
              "      <td>30</td>\n",
              "      <td>Beauty</td>\n",
              "      <td>2</td>\n",
              "      <td>50</td>\n",
              "      <td>100</td>\n",
              "    </tr>\n",
              "    <tr>\n",
              "      <th>5</th>\n",
              "      <td>6</td>\n",
              "      <td>2023-04-25</td>\n",
              "      <td>CUST006</td>\n",
              "      <td>Female</td>\n",
              "      <td>45</td>\n",
              "      <td>Beauty</td>\n",
              "      <td>1</td>\n",
              "      <td>30</td>\n",
              "      <td>30</td>\n",
              "    </tr>\n",
              "    <tr>\n",
              "      <th>6</th>\n",
              "      <td>7</td>\n",
              "      <td>2023-03-13</td>\n",
              "      <td>CUST007</td>\n",
              "      <td>Male</td>\n",
              "      <td>46</td>\n",
              "      <td>Clothing</td>\n",
              "      <td>2</td>\n",
              "      <td>25</td>\n",
              "      <td>50</td>\n",
              "    </tr>\n",
              "    <tr>\n",
              "      <th>7</th>\n",
              "      <td>8</td>\n",
              "      <td>2023-02-22</td>\n",
              "      <td>CUST008</td>\n",
              "      <td>Male</td>\n",
              "      <td>30</td>\n",
              "      <td>Electronics</td>\n",
              "      <td>4</td>\n",
              "      <td>25</td>\n",
              "      <td>100</td>\n",
              "    </tr>\n",
              "    <tr>\n",
              "      <th>8</th>\n",
              "      <td>9</td>\n",
              "      <td>2023-12-13</td>\n",
              "      <td>CUST009</td>\n",
              "      <td>Male</td>\n",
              "      <td>63</td>\n",
              "      <td>Electronics</td>\n",
              "      <td>2</td>\n",
              "      <td>300</td>\n",
              "      <td>600</td>\n",
              "    </tr>\n",
              "    <tr>\n",
              "      <th>9</th>\n",
              "      <td>10</td>\n",
              "      <td>2023-10-07</td>\n",
              "      <td>CUST010</td>\n",
              "      <td>Female</td>\n",
              "      <td>52</td>\n",
              "      <td>Clothing</td>\n",
              "      <td>4</td>\n",
              "      <td>50</td>\n",
              "      <td>200</td>\n",
              "    </tr>\n",
              "  </tbody>\n",
              "</table>\n",
              "</div>\n",
              "    <div class=\"colab-df-buttons\">\n",
              "\n",
              "  <div class=\"colab-df-container\">\n",
              "    <button class=\"colab-df-convert\" onclick=\"convertToInteractive('df-2449824a-fb3f-4caf-ae94-87064d28b860')\"\n",
              "            title=\"Convert this dataframe to an interactive table.\"\n",
              "            style=\"display:none;\">\n",
              "\n",
              "  <svg xmlns=\"http://www.w3.org/2000/svg\" height=\"24px\" viewBox=\"0 -960 960 960\">\n",
              "    <path d=\"M120-120v-720h720v720H120Zm60-500h600v-160H180v160Zm220 220h160v-160H400v160Zm0 220h160v-160H400v160ZM180-400h160v-160H180v160Zm440 0h160v-160H620v160ZM180-180h160v-160H180v160Zm440 0h160v-160H620v160Z\"/>\n",
              "  </svg>\n",
              "    </button>\n",
              "\n",
              "  <style>\n",
              "    .colab-df-container {\n",
              "      display:flex;\n",
              "      gap: 12px;\n",
              "    }\n",
              "\n",
              "    .colab-df-convert {\n",
              "      background-color: #E8F0FE;\n",
              "      border: none;\n",
              "      border-radius: 50%;\n",
              "      cursor: pointer;\n",
              "      display: none;\n",
              "      fill: #1967D2;\n",
              "      height: 32px;\n",
              "      padding: 0 0 0 0;\n",
              "      width: 32px;\n",
              "    }\n",
              "\n",
              "    .colab-df-convert:hover {\n",
              "      background-color: #E2EBFA;\n",
              "      box-shadow: 0px 1px 2px rgba(60, 64, 67, 0.3), 0px 1px 3px 1px rgba(60, 64, 67, 0.15);\n",
              "      fill: #174EA6;\n",
              "    }\n",
              "\n",
              "    .colab-df-buttons div {\n",
              "      margin-bottom: 4px;\n",
              "    }\n",
              "\n",
              "    [theme=dark] .colab-df-convert {\n",
              "      background-color: #3B4455;\n",
              "      fill: #D2E3FC;\n",
              "    }\n",
              "\n",
              "    [theme=dark] .colab-df-convert:hover {\n",
              "      background-color: #434B5C;\n",
              "      box-shadow: 0px 1px 3px 1px rgba(0, 0, 0, 0.15);\n",
              "      filter: drop-shadow(0px 1px 2px rgba(0, 0, 0, 0.3));\n",
              "      fill: #FFFFFF;\n",
              "    }\n",
              "  </style>\n",
              "\n",
              "    <script>\n",
              "      const buttonEl =\n",
              "        document.querySelector('#df-2449824a-fb3f-4caf-ae94-87064d28b860 button.colab-df-convert');\n",
              "      buttonEl.style.display =\n",
              "        google.colab.kernel.accessAllowed ? 'block' : 'none';\n",
              "\n",
              "      async function convertToInteractive(key) {\n",
              "        const element = document.querySelector('#df-2449824a-fb3f-4caf-ae94-87064d28b860');\n",
              "        const dataTable =\n",
              "          await google.colab.kernel.invokeFunction('convertToInteractive',\n",
              "                                                    [key], {});\n",
              "        if (!dataTable) return;\n",
              "\n",
              "        const docLinkHtml = 'Like what you see? Visit the ' +\n",
              "          '<a target=\"_blank\" href=https://colab.research.google.com/notebooks/data_table.ipynb>data table notebook</a>'\n",
              "          + ' to learn more about interactive tables.';\n",
              "        element.innerHTML = '';\n",
              "        dataTable['output_type'] = 'display_data';\n",
              "        await google.colab.output.renderOutput(dataTable, element);\n",
              "        const docLink = document.createElement('div');\n",
              "        docLink.innerHTML = docLinkHtml;\n",
              "        element.appendChild(docLink);\n",
              "      }\n",
              "    </script>\n",
              "  </div>\n",
              "\n",
              "\n",
              "<div id=\"df-5806988a-9b71-4e91-9e3a-9746ba79eb05\">\n",
              "  <button class=\"colab-df-quickchart\" onclick=\"quickchart('df-5806988a-9b71-4e91-9e3a-9746ba79eb05')\"\n",
              "            title=\"Suggest charts\"\n",
              "            style=\"display:none;\">\n",
              "\n",
              "<svg xmlns=\"http://www.w3.org/2000/svg\" height=\"24px\"viewBox=\"0 0 24 24\"\n",
              "     width=\"24px\">\n",
              "    <g>\n",
              "        <path d=\"M19 3H5c-1.1 0-2 .9-2 2v14c0 1.1.9 2 2 2h14c1.1 0 2-.9 2-2V5c0-1.1-.9-2-2-2zM9 17H7v-7h2v7zm4 0h-2V7h2v10zm4 0h-2v-4h2v4z\"/>\n",
              "    </g>\n",
              "</svg>\n",
              "  </button>\n",
              "\n",
              "<style>\n",
              "  .colab-df-quickchart {\n",
              "      --bg-color: #E8F0FE;\n",
              "      --fill-color: #1967D2;\n",
              "      --hover-bg-color: #E2EBFA;\n",
              "      --hover-fill-color: #174EA6;\n",
              "      --disabled-fill-color: #AAA;\n",
              "      --disabled-bg-color: #DDD;\n",
              "  }\n",
              "\n",
              "  [theme=dark] .colab-df-quickchart {\n",
              "      --bg-color: #3B4455;\n",
              "      --fill-color: #D2E3FC;\n",
              "      --hover-bg-color: #434B5C;\n",
              "      --hover-fill-color: #FFFFFF;\n",
              "      --disabled-bg-color: #3B4455;\n",
              "      --disabled-fill-color: #666;\n",
              "  }\n",
              "\n",
              "  .colab-df-quickchart {\n",
              "    background-color: var(--bg-color);\n",
              "    border: none;\n",
              "    border-radius: 50%;\n",
              "    cursor: pointer;\n",
              "    display: none;\n",
              "    fill: var(--fill-color);\n",
              "    height: 32px;\n",
              "    padding: 0;\n",
              "    width: 32px;\n",
              "  }\n",
              "\n",
              "  .colab-df-quickchart:hover {\n",
              "    background-color: var(--hover-bg-color);\n",
              "    box-shadow: 0 1px 2px rgba(60, 64, 67, 0.3), 0 1px 3px 1px rgba(60, 64, 67, 0.15);\n",
              "    fill: var(--button-hover-fill-color);\n",
              "  }\n",
              "\n",
              "  .colab-df-quickchart-complete:disabled,\n",
              "  .colab-df-quickchart-complete:disabled:hover {\n",
              "    background-color: var(--disabled-bg-color);\n",
              "    fill: var(--disabled-fill-color);\n",
              "    box-shadow: none;\n",
              "  }\n",
              "\n",
              "  .colab-df-spinner {\n",
              "    border: 2px solid var(--fill-color);\n",
              "    border-color: transparent;\n",
              "    border-bottom-color: var(--fill-color);\n",
              "    animation:\n",
              "      spin 1s steps(1) infinite;\n",
              "  }\n",
              "\n",
              "  @keyframes spin {\n",
              "    0% {\n",
              "      border-color: transparent;\n",
              "      border-bottom-color: var(--fill-color);\n",
              "      border-left-color: var(--fill-color);\n",
              "    }\n",
              "    20% {\n",
              "      border-color: transparent;\n",
              "      border-left-color: var(--fill-color);\n",
              "      border-top-color: var(--fill-color);\n",
              "    }\n",
              "    30% {\n",
              "      border-color: transparent;\n",
              "      border-left-color: var(--fill-color);\n",
              "      border-top-color: var(--fill-color);\n",
              "      border-right-color: var(--fill-color);\n",
              "    }\n",
              "    40% {\n",
              "      border-color: transparent;\n",
              "      border-right-color: var(--fill-color);\n",
              "      border-top-color: var(--fill-color);\n",
              "    }\n",
              "    60% {\n",
              "      border-color: transparent;\n",
              "      border-right-color: var(--fill-color);\n",
              "    }\n",
              "    80% {\n",
              "      border-color: transparent;\n",
              "      border-right-color: var(--fill-color);\n",
              "      border-bottom-color: var(--fill-color);\n",
              "    }\n",
              "    90% {\n",
              "      border-color: transparent;\n",
              "      border-bottom-color: var(--fill-color);\n",
              "    }\n",
              "  }\n",
              "</style>\n",
              "\n",
              "  <script>\n",
              "    async function quickchart(key) {\n",
              "      const quickchartButtonEl =\n",
              "        document.querySelector('#' + key + ' button');\n",
              "      quickchartButtonEl.disabled = true;  // To prevent multiple clicks.\n",
              "      quickchartButtonEl.classList.add('colab-df-spinner');\n",
              "      try {\n",
              "        const charts = await google.colab.kernel.invokeFunction(\n",
              "            'suggestCharts', [key], {});\n",
              "      } catch (error) {\n",
              "        console.error('Error during call to suggestCharts:', error);\n",
              "      }\n",
              "      quickchartButtonEl.classList.remove('colab-df-spinner');\n",
              "      quickchartButtonEl.classList.add('colab-df-quickchart-complete');\n",
              "    }\n",
              "    (() => {\n",
              "      let quickchartButtonEl =\n",
              "        document.querySelector('#df-5806988a-9b71-4e91-9e3a-9746ba79eb05 button');\n",
              "      quickchartButtonEl.style.display =\n",
              "        google.colab.kernel.accessAllowed ? 'block' : 'none';\n",
              "    })();\n",
              "  </script>\n",
              "</div>\n",
              "\n",
              "    </div>\n",
              "  </div>\n"
            ],
            "application/vnd.google.colaboratory.intrinsic+json": {
              "type": "dataframe",
              "variable_name": "data",
              "summary": "{\n  \"name\": \"data\",\n  \"rows\": 1000,\n  \"fields\": [\n    {\n      \"column\": \"Transaction ID\",\n      \"properties\": {\n        \"dtype\": \"number\",\n        \"std\": 288,\n        \"min\": 1,\n        \"max\": 1000,\n        \"num_unique_values\": 1000,\n        \"samples\": [\n          522,\n          738,\n          741\n        ],\n        \"semantic_type\": \"\",\n        \"description\": \"\"\n      }\n    },\n    {\n      \"column\": \"Date\",\n      \"properties\": {\n        \"dtype\": \"object\",\n        \"num_unique_values\": 345,\n        \"samples\": [\n          \"2023-04-04\",\n          \"2023-04-13\",\n          \"2023-04-15\"\n        ],\n        \"semantic_type\": \"\",\n        \"description\": \"\"\n      }\n    },\n    {\n      \"column\": \"Customer ID\",\n      \"properties\": {\n        \"dtype\": \"string\",\n        \"num_unique_values\": 1000,\n        \"samples\": [\n          \"CUST522\",\n          \"CUST738\",\n          \"CUST741\"\n        ],\n        \"semantic_type\": \"\",\n        \"description\": \"\"\n      }\n    },\n    {\n      \"column\": \"Gender\",\n      \"properties\": {\n        \"dtype\": \"category\",\n        \"num_unique_values\": 2,\n        \"samples\": [\n          \"Female\",\n          \"Male\"\n        ],\n        \"semantic_type\": \"\",\n        \"description\": \"\"\n      }\n    },\n    {\n      \"column\": \"Age\",\n      \"properties\": {\n        \"dtype\": \"number\",\n        \"std\": 13,\n        \"min\": 18,\n        \"max\": 64,\n        \"num_unique_values\": 47,\n        \"samples\": [\n          48,\n          61\n        ],\n        \"semantic_type\": \"\",\n        \"description\": \"\"\n      }\n    },\n    {\n      \"column\": \"Product Category\",\n      \"properties\": {\n        \"dtype\": \"category\",\n        \"num_unique_values\": 3,\n        \"samples\": [\n          \"Beauty\",\n          \"Clothing\"\n        ],\n        \"semantic_type\": \"\",\n        \"description\": \"\"\n      }\n    },\n    {\n      \"column\": \"Quantity\",\n      \"properties\": {\n        \"dtype\": \"number\",\n        \"std\": 1,\n        \"min\": 1,\n        \"max\": 4,\n        \"num_unique_values\": 4,\n        \"samples\": [\n          2,\n          4\n        ],\n        \"semantic_type\": \"\",\n        \"description\": \"\"\n      }\n    },\n    {\n      \"column\": \"Price per Unit\",\n      \"properties\": {\n        \"dtype\": \"number\",\n        \"std\": 189,\n        \"min\": 25,\n        \"max\": 500,\n        \"num_unique_values\": 5,\n        \"samples\": [\n          500,\n          300\n        ],\n        \"semantic_type\": \"\",\n        \"description\": \"\"\n      }\n    },\n    {\n      \"column\": \"Total Amount\",\n      \"properties\": {\n        \"dtype\": \"number\",\n        \"std\": 559,\n        \"min\": 25,\n        \"max\": 2000,\n        \"num_unique_values\": 18,\n        \"samples\": [\n          150,\n          1000\n        ],\n        \"semantic_type\": \"\",\n        \"description\": \"\"\n      }\n    }\n  ]\n}"
            }
          },
          "metadata": {},
          "execution_count": 3
        }
      ]
    },
    {
      "cell_type": "markdown",
      "source": [
        "### 3.Print the column names and their respective data types."
      ],
      "metadata": {
        "id": "yJEAVnk_0S7W"
      }
    },
    {
      "cell_type": "code",
      "source": [
        "data.dtypes"
      ],
      "metadata": {
        "colab": {
          "base_uri": "https://localhost:8080/",
          "height": 366
        },
        "id": "dvfJ7EoB0Xse",
        "outputId": "f4f1ca72-b380-424a-8b3c-d806448a3ff4"
      },
      "execution_count": null,
      "outputs": [
        {
          "output_type": "execute_result",
          "data": {
            "text/plain": [
              "Transaction ID       int64\n",
              "Date                object\n",
              "Customer ID         object\n",
              "Gender              object\n",
              "Age                  int64\n",
              "Product Category    object\n",
              "Quantity             int64\n",
              "Price per Unit       int64\n",
              "Total Amount         int64\n",
              "dtype: object"
            ],
            "text/html": [
              "<div>\n",
              "<style scoped>\n",
              "    .dataframe tbody tr th:only-of-type {\n",
              "        vertical-align: middle;\n",
              "    }\n",
              "\n",
              "    .dataframe tbody tr th {\n",
              "        vertical-align: top;\n",
              "    }\n",
              "\n",
              "    .dataframe thead th {\n",
              "        text-align: right;\n",
              "    }\n",
              "</style>\n",
              "<table border=\"1\" class=\"dataframe\">\n",
              "  <thead>\n",
              "    <tr style=\"text-align: right;\">\n",
              "      <th></th>\n",
              "      <th>0</th>\n",
              "    </tr>\n",
              "  </thead>\n",
              "  <tbody>\n",
              "    <tr>\n",
              "      <th>Transaction ID</th>\n",
              "      <td>int64</td>\n",
              "    </tr>\n",
              "    <tr>\n",
              "      <th>Date</th>\n",
              "      <td>object</td>\n",
              "    </tr>\n",
              "    <tr>\n",
              "      <th>Customer ID</th>\n",
              "      <td>object</td>\n",
              "    </tr>\n",
              "    <tr>\n",
              "      <th>Gender</th>\n",
              "      <td>object</td>\n",
              "    </tr>\n",
              "    <tr>\n",
              "      <th>Age</th>\n",
              "      <td>int64</td>\n",
              "    </tr>\n",
              "    <tr>\n",
              "      <th>Product Category</th>\n",
              "      <td>object</td>\n",
              "    </tr>\n",
              "    <tr>\n",
              "      <th>Quantity</th>\n",
              "      <td>int64</td>\n",
              "    </tr>\n",
              "    <tr>\n",
              "      <th>Price per Unit</th>\n",
              "      <td>int64</td>\n",
              "    </tr>\n",
              "    <tr>\n",
              "      <th>Total Amount</th>\n",
              "      <td>int64</td>\n",
              "    </tr>\n",
              "  </tbody>\n",
              "</table>\n",
              "</div><br><label><b>dtype:</b> object</label>"
            ]
          },
          "metadata": {},
          "execution_count": 4
        }
      ]
    },
    {
      "cell_type": "markdown",
      "source": [
        "### 4.Check for missing values and duplicates in the dataset. How would you handle them?\n",
        "\n"
      ],
      "metadata": {
        "id": "RGgLR1K60b0m"
      }
    },
    {
      "cell_type": "code",
      "source": [
        "# Check for missing values\n",
        "print(data.isnull().sum())\n",
        "\n",
        "# Check for duplicates\n",
        "print(data.duplicated().sum())\n",
        "\n",
        "# Handle missing values\n",
        "# For numerical features\n",
        "numerical_cols = data.select_dtypes(include=['number']).columns\n",
        "for col in numerical_cols:\n",
        "    if data[col].isnull().any():\n",
        "        data[col].fillna(data[col].mean(), inplace=True)\n",
        "\n",
        "# For categorical features\n",
        "categorical_cols = data.select_dtypes(include=['object']).columns\n",
        "for col in categorical_cols:\n",
        "    if data[col].isnull().any():\n",
        "        data[col].fillna(data[col].mode()[0], inplace=True)\n",
        "\n",
        "\n",
        "# Handle duplicates\n",
        "data.drop_duplicates(inplace=True)"
      ],
      "metadata": {
        "colab": {
          "base_uri": "https://localhost:8080/"
        },
        "id": "YZBprObI0iM2",
        "outputId": "d5a956bd-b99f-4786-f130-088d83ac2315"
      },
      "execution_count": null,
      "outputs": [
        {
          "output_type": "stream",
          "name": "stdout",
          "text": [
            "Transaction ID      0\n",
            "Date                0\n",
            "Customer ID         0\n",
            "Gender              0\n",
            "Age                 0\n",
            "Product Category    0\n",
            "Quantity            0\n",
            "Price per Unit      0\n",
            "Total Amount        0\n",
            "dtype: int64\n",
            "0\n"
          ]
        }
      ]
    },
    {
      "cell_type": "markdown",
      "source": [
        "# Deliverables"
      ],
      "metadata": {
        "id": "NXVZr1fj0oae"
      }
    },
    {
      "cell_type": "markdown",
      "source": [
        "* A brief summary of the dataset.\n",
        "A typical retail sales dataset contains various columns related to sales transactions, products, stores, and time periods. Here’s a brief summary of what such a dataset may include:\n",
        "\n",
        "Columns in Retail Sales Dataset:\n",
        "Product ID: Unique identifier for each product sold.\n",
        "Product Name: The name or description of the product.\n",
        "Quantity Sold: The number of units sold in a particular transaction. Sale Price: The price at which each unit was sold.\n",
        "Total Sale: The total revenue from a sale (usually calculated as Quantity Sold * Sale Price).\n",
        "Store ID: Unique identifier for each store in the dataset.\n",
        "Store Location: Physical location or region of the store (e.g., city, state, or country).\n",
        "Sale Date: The date when the sale occurred.\n",
        "Customer ID (if available): Unique identifier for each customer. Discount Applied: Information about any discounts applied during the sale.\n",
        "Possible Insights:\n",
        "Sales Trends: Track the performance of products over time. Popular Products: Identify which products are most frequently sold.\n",
        "Store Performance: Compare sales across different stores or regions.\n",
        "Customer Behavior: Analyze purchasing patterns of customers (if Customer ID is present).\n",
        "Summary Statistics:\n",
        "Descriptive statistics like average sales, total revenue, and quantity sold for each product or store.\n",
        "*A count of missing values and duplicate rows.\n",
        "Missing Values:\n",
        "\n",
        "The dataset may contain missing values (null entries) in certain columns. This could be due to missing customer information, incomplete sales data, or absent product details. To count the missing values: You would check each column for the total number of null entries.\n",
        "\n",
        "Duplicate Rows:\n",
        "\n",
        "Duplicate rows occur when the same transaction or entry appears multiple times in the dataset. This might happen due to data entry errors or during data collection. To count the duplicates: You would identify rows that are exact copies of each other and count them.\n",
        "\n"
      ],
      "metadata": {
        "id": "MclCd9Xl0ueu"
      }
    },
    {
      "cell_type": "markdown",
      "source": [
        "### 2.Data Cleaning"
      ],
      "metadata": {
        "id": "ArcJ8kte0zxO"
      }
    },
    {
      "cell_type": "markdown",
      "source": [
        "### 1. If there are duplicates, remove them."
      ],
      "metadata": {
        "id": "yXa5oyRC04me"
      }
    },
    {
      "cell_type": "code",
      "source": [
        "# Remove duplicate rows\n",
        "data_no_duplicates = data.drop_duplicates()\n",
        "\n",
        "print(\"\\nDataFrame without Duplicates:\")\n",
        "print(data_no_duplicates)"
      ],
      "metadata": {
        "colab": {
          "base_uri": "https://localhost:8080/"
        },
        "id": "7CNJ0fgY08Am",
        "outputId": "51879b3b-a337-40bc-a618-c7a6dead9831"
      },
      "execution_count": null,
      "outputs": [
        {
          "output_type": "stream",
          "name": "stdout",
          "text": [
            "\n",
            "DataFrame without Duplicates:\n",
            "     Transaction ID        Date Customer ID  Gender  Age Product Category  \\\n",
            "0                 1  2023-11-24     CUST001    Male   34           Beauty   \n",
            "1                 2  2023-02-27     CUST002  Female   26         Clothing   \n",
            "2                 3  2023-01-13     CUST003    Male   50      Electronics   \n",
            "3                 4  2023-05-21     CUST004    Male   37         Clothing   \n",
            "4                 5  2023-05-06     CUST005    Male   30           Beauty   \n",
            "..              ...         ...         ...     ...  ...              ...   \n",
            "995             996  2023-05-16     CUST996    Male   62         Clothing   \n",
            "996             997  2023-11-17     CUST997    Male   52           Beauty   \n",
            "997             998  2023-10-29     CUST998  Female   23           Beauty   \n",
            "998             999  2023-12-05     CUST999  Female   36      Electronics   \n",
            "999            1000  2023-04-12    CUST1000    Male   47      Electronics   \n",
            "\n",
            "     Quantity  Price per Unit  Total Amount  \n",
            "0           3              50           150  \n",
            "1           2             500          1000  \n",
            "2           1              30            30  \n",
            "3           1             500           500  \n",
            "4           2              50           100  \n",
            "..        ...             ...           ...  \n",
            "995         1              50            50  \n",
            "996         3              30            90  \n",
            "997         4              25           100  \n",
            "998         3              50           150  \n",
            "999         4              30           120  \n",
            "\n",
            "[1000 rows x 9 columns]\n"
          ]
        }
      ]
    },
    {
      "cell_type": "markdown",
      "source": [
        "### 2. Handle missing values appropriately (drop or impute them)"
      ],
      "metadata": {
        "id": "wfvg6FHt0-0m"
      }
    },
    {
      "cell_type": "code",
      "source": [
        "# Drop rows with any missing values\n",
        "data_dropped_rows = data.dropna()\n",
        "\n",
        "# Drop columns with any missing values\n",
        "data_dropped_columns = data.dropna(axis=1)\n",
        "\n",
        "print(\"\\nRows dropped (any missing values):\")\n",
        "print(data_dropped_rows)\n",
        "\n",
        "print(\"\\nColumns dropped (any missing values):\")\n",
        "print(data_dropped_columns)\n"
      ],
      "metadata": {
        "colab": {
          "base_uri": "https://localhost:8080/"
        },
        "id": "-4lye9r11D1e",
        "outputId": "c00605dd-9cd8-4973-9e1a-1e2f6529ff00"
      },
      "execution_count": null,
      "outputs": [
        {
          "output_type": "stream",
          "name": "stdout",
          "text": [
            "\n",
            "Rows dropped (any missing values):\n",
            "     Transaction ID        Date Customer ID  Gender  Age Product Category  \\\n",
            "0                 1  2023-11-24     CUST001    Male   34           Beauty   \n",
            "1                 2  2023-02-27     CUST002  Female   26         Clothing   \n",
            "2                 3  2023-01-13     CUST003    Male   50      Electronics   \n",
            "3                 4  2023-05-21     CUST004    Male   37         Clothing   \n",
            "4                 5  2023-05-06     CUST005    Male   30           Beauty   \n",
            "..              ...         ...         ...     ...  ...              ...   \n",
            "995             996  2023-05-16     CUST996    Male   62         Clothing   \n",
            "996             997  2023-11-17     CUST997    Male   52           Beauty   \n",
            "997             998  2023-10-29     CUST998  Female   23           Beauty   \n",
            "998             999  2023-12-05     CUST999  Female   36      Electronics   \n",
            "999            1000  2023-04-12    CUST1000    Male   47      Electronics   \n",
            "\n",
            "     Quantity  Price per Unit  Total Amount  \n",
            "0           3              50           150  \n",
            "1           2             500          1000  \n",
            "2           1              30            30  \n",
            "3           1             500           500  \n",
            "4           2              50           100  \n",
            "..        ...             ...           ...  \n",
            "995         1              50            50  \n",
            "996         3              30            90  \n",
            "997         4              25           100  \n",
            "998         3              50           150  \n",
            "999         4              30           120  \n",
            "\n",
            "[1000 rows x 9 columns]\n",
            "\n",
            "Columns dropped (any missing values):\n",
            "     Transaction ID        Date Customer ID  Gender  Age Product Category  \\\n",
            "0                 1  2023-11-24     CUST001    Male   34           Beauty   \n",
            "1                 2  2023-02-27     CUST002  Female   26         Clothing   \n",
            "2                 3  2023-01-13     CUST003    Male   50      Electronics   \n",
            "3                 4  2023-05-21     CUST004    Male   37         Clothing   \n",
            "4                 5  2023-05-06     CUST005    Male   30           Beauty   \n",
            "..              ...         ...         ...     ...  ...              ...   \n",
            "995             996  2023-05-16     CUST996    Male   62         Clothing   \n",
            "996             997  2023-11-17     CUST997    Male   52           Beauty   \n",
            "997             998  2023-10-29     CUST998  Female   23           Beauty   \n",
            "998             999  2023-12-05     CUST999  Female   36      Electronics   \n",
            "999            1000  2023-04-12    CUST1000    Male   47      Electronics   \n",
            "\n",
            "     Quantity  Price per Unit  Total Amount  \n",
            "0           3              50           150  \n",
            "1           2             500          1000  \n",
            "2           1              30            30  \n",
            "3           1             500           500  \n",
            "4           2              50           100  \n",
            "..        ...             ...           ...  \n",
            "995         1              50            50  \n",
            "996         3              30            90  \n",
            "997         4              25           100  \n",
            "998         3              50           150  \n",
            "999         4              30           120  \n",
            "\n",
            "[1000 rows x 9 columns]\n"
          ]
        }
      ]
    },
    {
      "cell_type": "markdown",
      "source": [
        "### 3. Rename the columns to more meaningful names, if necessary."
      ],
      "metadata": {
        "id": "FekZLaAP1G3m"
      }
    },
    {
      "cell_type": "code",
      "source": [
        "# Renaming columns\n",
        "data.rename(columns={\n",
        "    'prod_id': 'ProductID',\n",
        "    'cust_id': 'CustomerID',\n",
        "    'sale_amt': 'SalesAmount',\n",
        "    'tran_date': 'TransactionDate',\n",
        "    'qty_sold': 'QuantitySold',\n",
        "    'region': 'Region'\n",
        "}, inplace=True)\n",
        "\n",
        "print(data)"
      ],
      "metadata": {
        "colab": {
          "base_uri": "https://localhost:8080/"
        },
        "id": "j4KW0oBR1Nrm",
        "outputId": "152c30b9-7f36-4f93-abf6-84dcbb7b51c8"
      },
      "execution_count": null,
      "outputs": [
        {
          "output_type": "stream",
          "name": "stdout",
          "text": [
            "     Transaction ID        Date Customer ID  Gender  Age Product Category  \\\n",
            "0                 1  2023-11-24     CUST001    Male   34           Beauty   \n",
            "1                 2  2023-02-27     CUST002  Female   26         Clothing   \n",
            "2                 3  2023-01-13     CUST003    Male   50      Electronics   \n",
            "3                 4  2023-05-21     CUST004    Male   37         Clothing   \n",
            "4                 5  2023-05-06     CUST005    Male   30           Beauty   \n",
            "..              ...         ...         ...     ...  ...              ...   \n",
            "995             996  2023-05-16     CUST996    Male   62         Clothing   \n",
            "996             997  2023-11-17     CUST997    Male   52           Beauty   \n",
            "997             998  2023-10-29     CUST998  Female   23           Beauty   \n",
            "998             999  2023-12-05     CUST999  Female   36      Electronics   \n",
            "999            1000  2023-04-12    CUST1000    Male   47      Electronics   \n",
            "\n",
            "     Quantity  Price per Unit  Total Amount  \n",
            "0           3              50           150  \n",
            "1           2             500          1000  \n",
            "2           1              30            30  \n",
            "3           1             500           500  \n",
            "4           2              50           100  \n",
            "..        ...             ...           ...  \n",
            "995         1              50            50  \n",
            "996         3              30            90  \n",
            "997         4              25           100  \n",
            "998         3              50           150  \n",
            "999         4              30           120  \n",
            "\n",
            "[1000 rows x 9 columns]\n"
          ]
        }
      ]
    },
    {
      "cell_type": "markdown",
      "source": [
        "# Deliverables"
      ],
      "metadata": {
        "id": "tsyTCZ9D1SFu"
      }
    },
    {
      "cell_type": "markdown",
      "source": [
        "*Cleaned dataset\n",
        "A cleaned dataset is a dataset that has been processed to remove errors, inconsistencies, and irrelevant information, making it ready for analysis or modeling. It ensures that the data is accurate, complete, and in a consistent format, which is critical for generating meaningful insights or building reliable machine learning models.\n",
        "\n",
        "Features of a Cleaned Dataset :\n",
        "\n",
        "No Missing Values: Missing data is handled, either by filling, imputing, or removing rows/columns.\n",
        "No Duplicates: Duplicate rows or entries are identified and removed.\n",
        "Consistent Formatting: Data is standardized (e.g., dates in a single format, consistent units of measure).\n",
        "Outliers Addressed: Extreme values are either removed or appropriately treated.\n",
        "Correct Column Names: Columns are renamed to have meaningful and intuitive names.\n",
        "Valid Data Types: Data is stored in appropriate formats (e.g., numeric values for numerical data, dates in datetime format).\n",
        "Irrelevant Data Removed: Unnecessary or irrelevant columns/rows are deleted.\n",
        "Error-Free Data: Spelling mistakes, encoding errors, or invalid entries are corrected.\n",
        "Why Cleaning a Dataset is Important :\n",
        "Accuracy: Ensures results are not skewed by bad data.\n",
        "Efficiency: Clean data reduces the time spent on troubleshooting during analysis.\n",
        "Reliability: Prevents errors in downstream tasks such as modeling and reporting.\n",
        "Actionable Insights: Enables clearer and more reliable conclusions.\n",
        "*Explanation of how you handled missing values and duplicates.\n",
        "1.Handling Missing Values :\n",
        "Missing values can distort analysis if not properly addressed.\n",
        "Step 1: Identify Missing Values\n",
        "Used tools like df.isnull() (in Python Pandas) to locate missing values. Counted missing values in each column to assess their extent.\n",
        "\n",
        "Step 2: Decide How to Handle Them The treatment depends on the nature of the column and the percentage of missing values.\n",
        "\n",
        "2.Handling Duplicates :\n",
        "Duplicates in a dataset can mislead analysis by artificially inflating certain values or patterns.\n",
        "\n",
        "Step 1: Identify Duplicates\n",
        "Used df.duplicated() to check for duplicate rows.\n",
        "\n",
        "Step 2: Remove Duplicates\n",
        "Duplicates were removed using the drop_duplicates() function.\n",
        "\n",
        "Before removal, verified that duplicates were truly redundant and not legitimate repeated transactions (e.g., two separate transactions with the same details).\n",
        "\n",
        "Step 3: Validate\n",
        "\n",
        "After removal, the dataset was rechecked to ensure no duplicates remained.\n",
        "Outcome: The dataset became unique, with each row representing a distinct transaction."
      ],
      "metadata": {
        "id": "7WDP_GEg1VjW"
      }
    },
    {
      "cell_type": "markdown",
      "source": [
        "### 3. Exploratory Data Analysis (EDA)"
      ],
      "metadata": {
        "id": "g5XnNUOP1fgm"
      }
    },
    {
      "cell_type": "markdown",
      "source": [
        "1. Plot the distribution of the following discrete features:\n",
        "*Quantity\n",
        "*Category\n",
        "*Region"
      ],
      "metadata": {
        "id": "t85e0Xfu1myG"
      }
    },
    {
      "cell_type": "code",
      "source": [
        "import matplotlib.pyplot as plt\n",
        "import seaborn as sns\n",
        "\n",
        "# Plot the distribution of 'QuantitySold'\n",
        "plt.figure(figsize=(8, 6))\n",
        "sns.histplot(data['Quantity'], kde=True)\n",
        "plt.title('Distribution of Quantity Sold')\n",
        "plt.xlabel('Quantity Sold')\n",
        "plt.ylabel('Frequency')\n",
        "plt.show()\n",
        "\n",
        "# Assuming 'Category' and 'Region' are categorical features\n",
        "# Plot the distribution of 'Category'\n",
        "plt.figure(figsize=(10, 6))\n",
        "sns.countplot(x='Product Category', data=data) # Replace 'Category' with the actual column name if different\n",
        "plt.title('Distribution of Categories')\n",
        "plt.xlabel('Category')\n",
        "plt.ylabel('Count')\n",
        "plt.xticks(rotation=45, ha='right') # Rotate x-axis labels for better readability\n",
        "plt.show()\n",
        "\n",
        "\n",
        "# Plot the distribution of 'Region'\n",
        "plt.figure(figsize=(10, 6))\n",
        "sns.countplot(x='Gender', data=data)  # Replace 'Region' with the actual column name if different\n",
        "plt.title('Distribution of Regions')\n",
        "plt.xlabel('Region')\n",
        "plt.ylabel('Count')\n",
        "plt.xticks(rotation=45, ha='right') # Rotate x-axis labels for better readability\n",
        "plt.show()"
      ],
      "metadata": {
        "colab": {
          "base_uri": "https://localhost:8080/",
          "height": 1000
        },
        "id": "evsA5kTc1rQv",
        "outputId": "effd5652-ad3f-4497-f10b-1f10f75d457a"
      },
      "execution_count": null,
      "outputs": [
        {
          "output_type": "display_data",
          "data": {
            "text/plain": [
              "<Figure size 800x600 with 1 Axes>"
            ],
            "image/png": "[encoded data removed]"
          },
          "metadata": {}
        },
        {
          "output_type": "display_data",
          "data": {
            "text/plain": [
              "<Figure size 1000x600 with 1 Axes>"
            ],
            "image/png": "[encoded data removed]"
          },
          "metadata": {}
        },
        {
          "output_type": "display_data",
          "data": {
            "text/plain": [
              "<Figure size 1000x600 with 1 Axes>"
            ],
            "image/png": "[encoded data removed]"
          },
          "metadata": {}
        }
      ]
    },
    {
      "cell_type": "markdown",
      "source": [
        "### 2. Identify the most frequently purchased product category."
      ],
      "metadata": {
        "id": "kUD0Wa1F1wx2"
      }
    },
    {
      "cell_type": "code",
      "source": [
        "# Assuming 'Product Category' is the column representing product categories\n",
        "most_frequent_category = data['Product Category'].mode()[0]\n",
        "print(f\"The most frequently purchased product category is: {most_frequent_category}\")\n"
      ],
      "metadata": {
        "colab": {
          "base_uri": "https://localhost:8080/"
        },
        "id": "5ZRApZO2101P",
        "outputId": "86b0d062-591e-4973-ff2e-1adcf0e6b04e"
      },
      "execution_count": null,
      "outputs": [
        {
          "output_type": "stream",
          "name": "stdout",
          "text": [
            "The most frequently purchased product category is: Clothing\n"
          ]
        }
      ]
    },
    {
      "cell_type": "markdown",
      "source": [
        "### 3. Find the region contributing the most to sales.\n"
      ],
      "metadata": {
        "id": "iNMT22lQ14m-"
      }
    },
    {
      "cell_type": "code",
      "source": [
        "# Group by region and sum the sales amount\n",
        "region_sales = data.groupby('Gender')['Quantity'].sum()\n",
        "\n",
        "# Find the region with the highest sales\n",
        "highest_sales_region = region_sales.idxmax()\n",
        "print(f\"The region contributing the most to sales is: {highest_sales_region}\")\n"
      ],
      "metadata": {
        "colab": {
          "base_uri": "https://localhost:8080/"
        },
        "id": "-jveWaXp18GO",
        "outputId": "478ceaf5-d209-4602-ad4a-e1df2fa088a7"
      },
      "execution_count": null,
      "outputs": [
        {
          "output_type": "stream",
          "name": "stdout",
          "text": [
            "The region contributing the most to sales is: Female\n"
          ]
        }
      ]
    },
    {
      "cell_type": "markdown",
      "source": [
        "# Deliverables"
      ],
      "metadata": {
        "id": "v7q7DGyH1_PO"
      }
    },
    {
      "cell_type": "markdown",
      "source": [
        "*Distribution plots\n",
        "A distribution plot is a graphical representation of the distribution of data. It helps visualize the frequency or density of data points, making it easier to understand how values are distributed across a dataset.\n",
        "\n",
        "Here are some common types of distribution plots:\n",
        "\n",
        "1.Histogram:\n",
        "\n",
        "*Divides the data into bins (intervals) and displays the count or density of data points in each bin. *Useful for visualizing the shape (e.g., normal, skewed) and spread of data.\n",
        "\n",
        "2.KDE Plot (Kernel Density Estimate):\n",
        "\n",
        "*Provides a smoothed estimate of the probability density function (PDF) of a dataset.\n",
        "*Ideal for understanding the overall shape of the distribution without the binning of histograms.\n",
        "\n",
        "3.Box Plot:\n",
        "\n",
        "*Summarizes data using five key statistics: minimum, first quartile (Q1), median, third quartile (Q3), and maximum.\n",
        "*Useful for detecting outliers and comparing distributions between groups.\n",
        "\n",
        "4.Violin Plot:\n",
        "\n",
        "*Combines a box plot and KDE plot to show both summary statistics and the distribution density.\n",
        "*Particularly useful for visualizing multi-modal distributions.\n",
        "\n",
        "5.ECDF (Empirical Cumulative Distribution Function):\n",
        "\n",
        "*Plots the cumulative probability of data points up to a given value.\n",
        "*Useful for analyzing percentiles and understanding data distribution.\n",
        "\n",
        "6.Rug Plot:\n",
        "\n",
        "Displays individual data points as small vertical lines along an axis. Often used as a supplement to histograms or KDE plots.\n",
        "\n",
        "*Insights on top product categories and regions\n",
        "To provide insights into top product categories and regions, here’s a high-level overview based on general trends. If you have specific industries or timeframes in mind, let me know, and I can tailor the insights further.\n",
        "\n",
        "Top Product Categories\n",
        "E-Commerce & Retail Electronics: Smartphones, wearables, laptops, and smart home devices lead the category. Fashion: Apparel, footwear, and accessories (luxury and sustainable fashion are growing). Health & Wellness: Fitness equipment, supplements, and personal care products. Beauty Products: Skincare, haircare, and organic or cruelty-free products. Home Essentials: Furniture, kitchenware, and home decor.\n",
        "Technology & Digital Services SaaS (Software as a Service): Cloud solutions for businesses like CRM, project management, and collaboration tools. Gaming: Consoles, video games, and VR/AR hardware. Streaming & Subscriptions: Platforms for video, music, and digital books. AI & Automation Tools: For content creation, customer support, and data analysis.\n",
        "Sustainability & Eco-friendly Products Solar-powered devices, reusable household products, and electric vehicles (EVs).\n",
        "Food & Beverage Organic and plant-based products, ready-to-eat meals, and functional foods (e.g., protein bars, probiotics).\n",
        "Education & E-Learning Online courses, tutoring platforms, and skill development software.\n",
        "Top Regions by Demand & Innovation\n",
        "North America\n",
        "United States: Tech products, luxury goods, and digital services dominate.\n",
        "Canada: Sustainable goods, healthcare products, and artisanal items.\n",
        "Europe\n",
        "Western Europe (e.g., Germany, UK): Automotive, fashion, and renewable energy.\n",
        "Scandinavian Countries: Eco-friendly products and smart home innovations.\n",
        "Eastern Europe: Growing interest in affordable tech and digital services.\n",
        "Asia-Pacific\n",
        "China & India: Electronics, fast fashion, and mobile apps. Both are manufacturing and consumption hubs.\n",
        "Japan & South Korea: High-end tech, beauty products, and gaming.\n",
        "Southeast Asia: E-commerce boom in fashion, electronics, and health products.\n",
        "Latin America\n",
        "Emerging markets for consumer electronics, e-commerce, and mobile fintech solutions.\n",
        "Middle East & Africa\n",
        "Rapid adoption of mobile technology, renewable energy, and luxury goods. Growth in FMCG (Fast-Moving Consumer Goods) and education tools."
      ],
      "metadata": {
        "id": "SlLER_SN2D_O"
      }
    },
    {
      "cell_type": "markdown",
      "source": [
        "### 4. Timestamp Transformation"
      ],
      "metadata": {
        "id": "lvyQXAPe2Hwe"
      }
    },
    {
      "cell_type": "markdown",
      "source": [
        "### 1. Convert the Order Date column to a datetime format."
      ],
      "metadata": {
        "id": "KAFTRHUj2Mov"
      }
    },
    {
      "cell_type": "code",
      "source": [
        "# Convert 'TransactionDate' column to datetime format\n",
        "data['Date'] = pd.to_datetime(data['Date'])\n",
        "data.dtypes"
      ],
      "metadata": {
        "colab": {
          "base_uri": "https://localhost:8080/",
          "height": 366
        },
        "id": "UKFH5POn2PEP",
        "outputId": "de51de93-c2c7-4832-8feb-3e9341303341"
      },
      "execution_count": null,
      "outputs": [
        {
          "output_type": "execute_result",
          "data": {
            "text/plain": [
              "Transaction ID               int64\n",
              "Date                datetime64[ns]\n",
              "Customer ID                 object\n",
              "Gender                      object\n",
              "Age                          int64\n",
              "Product Category            object\n",
              "Quantity                     int64\n",
              "Price per Unit               int64\n",
              "Total Amount                 int64\n",
              "dtype: object"
            ],
            "text/html": [
              "<div>\n",
              "<style scoped>\n",
              "    .dataframe tbody tr th:only-of-type {\n",
              "        vertical-align: middle;\n",
              "    }\n",
              "\n",
              "    .dataframe tbody tr th {\n",
              "        vertical-align: top;\n",
              "    }\n",
              "\n",
              "    .dataframe thead th {\n",
              "        text-align: right;\n",
              "    }\n",
              "</style>\n",
              "<table border=\"1\" class=\"dataframe\">\n",
              "  <thead>\n",
              "    <tr style=\"text-align: right;\">\n",
              "      <th></th>\n",
              "      <th>0</th>\n",
              "    </tr>\n",
              "  </thead>\n",
              "  <tbody>\n",
              "    <tr>\n",
              "      <th>Transaction ID</th>\n",
              "      <td>int64</td>\n",
              "    </tr>\n",
              "    <tr>\n",
              "      <th>Date</th>\n",
              "      <td>datetime64[ns]</td>\n",
              "    </tr>\n",
              "    <tr>\n",
              "      <th>Customer ID</th>\n",
              "      <td>object</td>\n",
              "    </tr>\n",
              "    <tr>\n",
              "      <th>Gender</th>\n",
              "      <td>object</td>\n",
              "    </tr>\n",
              "    <tr>\n",
              "      <th>Age</th>\n",
              "      <td>int64</td>\n",
              "    </tr>\n",
              "    <tr>\n",
              "      <th>Product Category</th>\n",
              "      <td>object</td>\n",
              "    </tr>\n",
              "    <tr>\n",
              "      <th>Quantity</th>\n",
              "      <td>int64</td>\n",
              "    </tr>\n",
              "    <tr>\n",
              "      <th>Price per Unit</th>\n",
              "      <td>int64</td>\n",
              "    </tr>\n",
              "    <tr>\n",
              "      <th>Total Amount</th>\n",
              "      <td>int64</td>\n",
              "    </tr>\n",
              "  </tbody>\n",
              "</table>\n",
              "</div><br><label><b>dtype:</b> object</label>"
            ]
          },
          "metadata": {},
          "execution_count": 12
        }
      ]
    },
    {
      "cell_type": "markdown",
      "source": [
        "2. Create new columns:\n",
        "Day of the week.\n",
        "Day of the month.\n",
        "Month.\n",
        "Year.\n",
        "Season (Winter, Spring, Summer, Fall)."
      ],
      "metadata": {
        "id": "hUgaBGvM2VAf"
      }
    },
    {
      "cell_type": "code",
      "source": [
        "# Day of the week.\n",
        "\n",
        "# Extract day of the week\n",
        "data['Day of the week'] = data['Date'].dt.day_name()\n",
        "\n",
        "# Extract day of the month\n",
        "data['Day of the month'] = data['Date'].dt.day\n",
        "\n",
        "# Extract month\n",
        "data['Month'] = data['Date'].dt.month_name()\n",
        "\n",
        "# Extract year\n",
        "data['Year'] = data['Date'].dt.year\n",
        "\n",
        "# Define a function to determine the season based on the month\n",
        "def get_season(month):\n",
        "    if month in [12, 1, 2]:\n",
        "        return 'Winter'\n",
        "    elif month in [3, 4, 5]:\n",
        "        return 'Spring'\n",
        "    elif month in [6, 7, 8]:\n",
        "        return 'Summer'\n",
        "    else:\n",
        "        return 'Fall'\n",
        "\n",
        "# Apply the function to create the 'Season' column\n",
        "data['Season'] = data['Month'].apply(lambda x: get_season(data[data['Month'] == x]['Month'].iloc[0]))\n",
        "\n",
        "print(data)"
      ],
      "metadata": {
        "colab": {
          "base_uri": "https://localhost:8080/"
        },
        "id": "BjQnGQK92Xu_",
        "outputId": "98082fae-a004-4c3f-a128-f1c39315f733"
      },
      "execution_count": null,
      "outputs": [
        {
          "output_type": "stream",
          "name": "stdout",
          "text": [
            "     Transaction ID       Date Customer ID  Gender  Age Product Category  \\\n",
            "0                 1 2023-11-24     CUST001    Male   34           Beauty   \n",
            "1                 2 2023-02-27     CUST002  Female   26         Clothing   \n",
            "2                 3 2023-01-13     CUST003    Male   50      Electronics   \n",
            "3                 4 2023-05-21     CUST004    Male   37         Clothing   \n",
            "4                 5 2023-05-06     CUST005    Male   30           Beauty   \n",
            "..              ...        ...         ...     ...  ...              ...   \n",
            "995             996 2023-05-16     CUST996    Male   62         Clothing   \n",
            "996             997 2023-11-17     CUST997    Male   52           Beauty   \n",
            "997             998 2023-10-29     CUST998  Female   23           Beauty   \n",
            "998             999 2023-12-05     CUST999  Female   36      Electronics   \n",
            "999            1000 2023-04-12    CUST1000    Male   47      Electronics   \n",
            "\n",
            "     Quantity  Price per Unit  Total Amount Day of the week  Day of the month  \\\n",
            "0           3              50           150          Friday                24   \n",
            "1           2             500          1000          Monday                27   \n",
            "2           1              30            30          Friday                13   \n",
            "3           1             500           500          Sunday                21   \n",
            "4           2              50           100        Saturday                 6   \n",
            "..        ...             ...           ...             ...               ...   \n",
            "995         1              50            50         Tuesday                16   \n",
            "996         3              30            90          Friday                17   \n",
            "997         4              25           100          Sunday                29   \n",
            "998         3              50           150         Tuesday                 5   \n",
            "999         4              30           120       Wednesday                12   \n",
            "\n",
            "        Month  Year Season  \n",
            "0    November  2023   Fall  \n",
            "1    February  2023   Fall  \n",
            "2     January  2023   Fall  \n",
            "3         May  2023   Fall  \n",
            "4         May  2023   Fall  \n",
            "..        ...   ...    ...  \n",
            "995       May  2023   Fall  \n",
            "996  November  2023   Fall  \n",
            "997   October  2023   Fall  \n",
            "998  December  2023   Fall  \n",
            "999     April  2023   Fall  \n",
            "\n",
            "[1000 rows x 14 columns]\n"
          ]
        }
      ]
    },
    {
      "cell_type": "markdown",
      "source": [
        "### 3. Set the Order Date column as the DataFrame index."
      ],
      "metadata": {
        "id": "x14kfKoK2bdf"
      }
    },
    {
      "cell_type": "code",
      "source": [
        "data = data.set_index('Date')\n",
        "\n",
        "print(data)"
      ],
      "metadata": {
        "colab": {
          "base_uri": "https://localhost:8080/"
        },
        "id": "RoSZ50kD2fzP",
        "outputId": "39b6fcd9-2f43-464e-d368-3d947972592f"
      },
      "execution_count": null,
      "outputs": [
        {
          "output_type": "stream",
          "name": "stdout",
          "text": [
            "            Transaction ID Customer ID  Gender  Age Product Category  \\\n",
            "Date                                                                   \n",
            "2023-11-24               1     CUST001    Male   34           Beauty   \n",
            "2023-02-27               2     CUST002  Female   26         Clothing   \n",
            "2023-01-13               3     CUST003    Male   50      Electronics   \n",
            "2023-05-21               4     CUST004    Male   37         Clothing   \n",
            "2023-05-06               5     CUST005    Male   30           Beauty   \n",
            "...                    ...         ...     ...  ...              ...   \n",
            "2023-05-16             996     CUST996    Male   62         Clothing   \n",
            "2023-11-17             997     CUST997    Male   52           Beauty   \n",
            "2023-10-29             998     CUST998  Female   23           Beauty   \n",
            "2023-12-05             999     CUST999  Female   36      Electronics   \n",
            "2023-04-12            1000    CUST1000    Male   47      Electronics   \n",
            "\n",
            "            Quantity  Price per Unit  Total Amount Day of the week  \\\n",
            "Date                                                                 \n",
            "2023-11-24         3              50           150          Friday   \n",
            "2023-02-27         2             500          1000          Monday   \n",
            "2023-01-13         1              30            30          Friday   \n",
            "2023-05-21         1             500           500          Sunday   \n",
            "2023-05-06         2              50           100        Saturday   \n",
            "...              ...             ...           ...             ...   \n",
            "2023-05-16         1              50            50         Tuesday   \n",
            "2023-11-17         3              30            90          Friday   \n",
            "2023-10-29         4              25           100          Sunday   \n",
            "2023-12-05         3              50           150         Tuesday   \n",
            "2023-04-12         4              30           120       Wednesday   \n",
            "\n",
            "            Day of the month     Month  Year Season  \n",
            "Date                                                 \n",
            "2023-11-24                24  November  2023   Fall  \n",
            "2023-02-27                27  February  2023   Fall  \n",
            "2023-01-13                13   January  2023   Fall  \n",
            "2023-05-21                21       May  2023   Fall  \n",
            "2023-05-06                 6       May  2023   Fall  \n",
            "...                      ...       ...   ...    ...  \n",
            "2023-05-16                16       May  2023   Fall  \n",
            "2023-11-17                17  November  2023   Fall  \n",
            "2023-10-29                29   October  2023   Fall  \n",
            "2023-12-05                 5  December  2023   Fall  \n",
            "2023-04-12                12     April  2023   Fall  \n",
            "\n",
            "[1000 rows x 13 columns]\n"
          ]
        }
      ]
    },
    {
      "cell_type": "markdown",
      "source": [
        "# Deliverables"
      ],
      "metadata": {
        "id": "VHsWZSWe2kPw"
      }
    },
    {
      "cell_type": "markdown",
      "source": [
        "Updated DataFrame with new columns\n",
        "Adding New Columns to a DataFrame\n",
        "Updating a DataFrame with new columns is a common operation in data analysis. New columns can be created to enrich the dataset by adding additional information or deriving insights from existing data. Here are common methods for adding new columns:\n",
        "\n",
        "Static Values\n",
        "A column is added where each row contains the same value. This is useful for adding a label or default value across all rows.\n",
        "\n",
        "Derived Columns\n",
        "New columns are created by performing operations on existing columns, such as sums, differences, ratios, or other mathematical calculations.\n",
        "\n",
        "Conditional Columns\n",
        "Columns are created based on conditions. For example, you might classify data into categories like \"High\" or \"Low\" based on a threshold value in another column.\n",
        "\n",
        "Multiple New Columns\n",
        "Sometimes, several columns are added at once. This could involve splitting a single column into multiple parts or introducing a block of new data with related information.\n",
        "\n",
        "External Data Integration\n",
        "Columns can also be added by incorporating data from another dataset or an external source. This is useful for enriching a DataFrame with additional context or values.\n",
        "\n",
        "Complex Transformations\n",
        "In cases where the new column involves more advanced logic, such as aggregations, lookups, or data transformations, the new columns can encapsulate these results.\n",
        "\n",
        "A few sampe rows to verify the transformations\n",
        "Sample Rows for Transformation Verification To ensure that transformations or updates to a DataFrame are applied correctly, you can inspect a few rows from the dataset. These sample rows allow you to validate that the new columns reflect the intended logic or changes.\n",
        "\n",
        "1.Static Columns\n",
        "After adding a static column, check rows from different parts of the dataset to confirm that the value is consistent throughout all rows.\n",
        "\n",
        "2.Derived Columns\n",
        "Review rows where the input values differ significantly (e.g., extremes, nulls, or boundary values). This helps confirm that calculations like sums, differences, or ratios are accurate.\n",
        "\n",
        "3.Conditional Columns\n",
        "Examine rows that fall into different categories or conditions to ensure the logic correctly classifies or assigns values.\n",
        "\n",
        "4.Multiple New Columns\n",
        "When adding multiple columns simultaneously, inspect rows with interrelated data to verify consistency and alignment across the new columns.\n",
        "\n",
        "5.Data Merging or Enrichment\n",
        "If the new columns come from an external dataset, check sample rows where data matches and where it might not (e.g., missing or unmatched rows) to confirm that the merge or join was successful.\n",
        "\n",
        "6.Edge Cases and Anomalies\n",
        "Include rows with special cases, such as nulls, zeroes, or unexpected values in the original data, to confirm that transformations handle these correctly."
      ],
      "metadata": {
        "id": "jUFK5V2t2nrX"
      }
    },
    {
      "cell_type": "markdown",
      "source": [
        "### 5. Correlation Analysis"
      ],
      "metadata": {
        "id": "VfM13XU32sUv"
      }
    },
    {
      "cell_type": "markdown",
      "source": [
        "### 1. Compute the correlation matrix for numerical columns"
      ],
      "metadata": {
        "id": "JqzZIunA2wFf"
      }
    },
    {
      "cell_type": "code",
      "source": [
        "# Compute the correlation matrix for numerical columns\n",
        "correlation_matrix = data.select_dtypes(include=['number']).corr()\n",
        "correlation_matrix"
      ],
      "metadata": {
        "colab": {
          "base_uri": "https://localhost:8080/",
          "height": 269
        },
        "id": "4Mw1cZkI2zXY",
        "outputId": "a0db5a00-1f97-48ed-d4fa-ecc3fd4b8116"
      },
      "execution_count": null,
      "outputs": [
        {
          "output_type": "execute_result",
          "data": {
            "text/plain": [
              "                  Transaction ID       Age  Quantity  Price per Unit  \\\n",
              "Transaction ID          1.000000  0.065191 -0.026623       -0.060837   \n",
              "Age                     0.065191  1.000000 -0.023737       -0.038423   \n",
              "Quantity               -0.026623 -0.023737  1.000000        0.017501   \n",
              "Price per Unit         -0.060837 -0.038423  0.017501        1.000000   \n",
              "Total Amount           -0.075034 -0.060568  0.373707        0.851925   \n",
              "Day of the month       -0.005052  0.041899  0.029650        0.018303   \n",
              "Year                   -0.010855  0.023269 -0.020324        0.020097   \n",
              "\n",
              "                  Total Amount  Day of the month      Year  \n",
              "Transaction ID       -0.075034         -0.005052 -0.010855  \n",
              "Age                  -0.060568          0.041899  0.023269  \n",
              "Quantity              0.373707          0.029650 -0.020324  \n",
              "Price per Unit        0.851925          0.018303  0.020097  \n",
              "Total Amount          1.000000          0.036889  0.024714  \n",
              "Day of the month      0.036889          1.000000 -0.072244  \n",
              "Year                  0.024714         -0.072244  1.000000  "
            ],
            "text/html": [
              "\n",
              "  <div id=\"df-79fb3b00-3ca2-405f-900a-def37c3e22dd\" class=\"colab-df-container\">\n",
              "    <div>\n",
              "<style scoped>\n",
              "    .dataframe tbody tr th:only-of-type {\n",
              "        vertical-align: middle;\n",
              "    }\n",
              "\n",
              "    .dataframe tbody tr th {\n",
              "        vertical-align: top;\n",
              "    }\n",
              "\n",
              "    .dataframe thead th {\n",
              "        text-align: right;\n",
              "    }\n",
              "</style>\n",
              "<table border=\"1\" class=\"dataframe\">\n",
              "  <thead>\n",
              "    <tr style=\"text-align: right;\">\n",
              "      <th></th>\n",
              "      <th>Transaction ID</th>\n",
              "      <th>Age</th>\n",
              "      <th>Quantity</th>\n",
              "      <th>Price per Unit</th>\n",
              "      <th>Total Amount</th>\n",
              "      <th>Day of the month</th>\n",
              "      <th>Year</th>\n",
              "    </tr>\n",
              "  </thead>\n",
              "  <tbody>\n",
              "    <tr>\n",
              "      <th>Transaction ID</th>\n",
              "      <td>1.000000</td>\n",
              "      <td>0.065191</td>\n",
              "      <td>-0.026623</td>\n",
              "      <td>-0.060837</td>\n",
              "      <td>-0.075034</td>\n",
              "      <td>-0.005052</td>\n",
              "      <td>-0.010855</td>\n",
              "    </tr>\n",
              "    <tr>\n",
              "      <th>Age</th>\n",
              "      <td>0.065191</td>\n",
              "      <td>1.000000</td>\n",
              "      <td>-0.023737</td>\n",
              "      <td>-0.038423</td>\n",
              "      <td>-0.060568</td>\n",
              "      <td>0.041899</td>\n",
              "      <td>0.023269</td>\n",
              "    </tr>\n",
              "    <tr>\n",
              "      <th>Quantity</th>\n",
              "      <td>-0.026623</td>\n",
              "      <td>-0.023737</td>\n",
              "      <td>1.000000</td>\n",
              "      <td>0.017501</td>\n",
              "      <td>0.373707</td>\n",
              "      <td>0.029650</td>\n",
              "      <td>-0.020324</td>\n",
              "    </tr>\n",
              "    <tr>\n",
              "      <th>Price per Unit</th>\n",
              "      <td>-0.060837</td>\n",
              "      <td>-0.038423</td>\n",
              "      <td>0.017501</td>\n",
              "      <td>1.000000</td>\n",
              "      <td>0.851925</td>\n",
              "      <td>0.018303</td>\n",
              "      <td>0.020097</td>\n",
              "    </tr>\n",
              "    <tr>\n",
              "      <th>Total Amount</th>\n",
              "      <td>-0.075034</td>\n",
              "      <td>-0.060568</td>\n",
              "      <td>0.373707</td>\n",
              "      <td>0.851925</td>\n",
              "      <td>1.000000</td>\n",
              "      <td>0.036889</td>\n",
              "      <td>0.024714</td>\n",
              "    </tr>\n",
              "    <tr>\n",
              "      <th>Day of the month</th>\n",
              "      <td>-0.005052</td>\n",
              "      <td>0.041899</td>\n",
              "      <td>0.029650</td>\n",
              "      <td>0.018303</td>\n",
              "      <td>0.036889</td>\n",
              "      <td>1.000000</td>\n",
              "      <td>-0.072244</td>\n",
              "    </tr>\n",
              "    <tr>\n",
              "      <th>Year</th>\n",
              "      <td>-0.010855</td>\n",
              "      <td>0.023269</td>\n",
              "      <td>-0.020324</td>\n",
              "      <td>0.020097</td>\n",
              "      <td>0.024714</td>\n",
              "      <td>-0.072244</td>\n",
              "      <td>1.000000</td>\n",
              "    </tr>\n",
              "  </tbody>\n",
              "</table>\n",
              "</div>\n",
              "    <div class=\"colab-df-buttons\">\n",
              "\n",
              "  <div class=\"colab-df-container\">\n",
              "    <button class=\"colab-df-convert\" onclick=\"convertToInteractive('df-79fb3b00-3ca2-405f-900a-def37c3e22dd')\"\n",
              "            title=\"Convert this dataframe to an interactive table.\"\n",
              "            style=\"display:none;\">\n",
              "\n",
              "  <svg xmlns=\"http://www.w3.org/2000/svg\" height=\"24px\" viewBox=\"0 -960 960 960\">\n",
              "    <path d=\"M120-120v-720h720v720H120Zm60-500h600v-160H180v160Zm220 220h160v-160H400v160Zm0 220h160v-160H400v160ZM180-400h160v-160H180v160Zm440 0h160v-160H620v160ZM180-180h160v-160H180v160Zm440 0h160v-160H620v160Z\"/>\n",
              "  </svg>\n",
              "    </button>\n",
              "\n",
              "  <style>\n",
              "    .colab-df-container {\n",
              "      display:flex;\n",
              "      gap: 12px;\n",
              "    }\n",
              "\n",
              "    .colab-df-convert {\n",
              "      background-color: #E8F0FE;\n",
              "      border: none;\n",
              "      border-radius: 50%;\n",
              "      cursor: pointer;\n",
              "      display: none;\n",
              "      fill: #1967D2;\n",
              "      height: 32px;\n",
              "      padding: 0 0 0 0;\n",
              "      width: 32px;\n",
              "    }\n",
              "\n",
              "    .colab-df-convert:hover {\n",
              "      background-color: #E2EBFA;\n",
              "      box-shadow: 0px 1px 2px rgba(60, 64, 67, 0.3), 0px 1px 3px 1px rgba(60, 64, 67, 0.15);\n",
              "      fill: #174EA6;\n",
              "    }\n",
              "\n",
              "    .colab-df-buttons div {\n",
              "      margin-bottom: 4px;\n",
              "    }\n",
              "\n",
              "    [theme=dark] .colab-df-convert {\n",
              "      background-color: #3B4455;\n",
              "      fill: #D2E3FC;\n",
              "    }\n",
              "\n",
              "    [theme=dark] .colab-df-convert:hover {\n",
              "      background-color: #434B5C;\n",
              "      box-shadow: 0px 1px 3px 1px rgba(0, 0, 0, 0.15);\n",
              "      filter: drop-shadow(0px 1px 2px rgba(0, 0, 0, 0.3));\n",
              "      fill: #FFFFFF;\n",
              "    }\n",
              "  </style>\n",
              "\n",
              "    <script>\n",
              "      const buttonEl =\n",
              "        document.querySelector('#df-79fb3b00-3ca2-405f-900a-def37c3e22dd button.colab-df-convert');\n",
              "      buttonEl.style.display =\n",
              "        google.colab.kernel.accessAllowed ? 'block' : 'none';\n",
              "\n",
              "      async function convertToInteractive(key) {\n",
              "        const element = document.querySelector('#df-79fb3b00-3ca2-405f-900a-def37c3e22dd');\n",
              "        const dataTable =\n",
              "          await google.colab.kernel.invokeFunction('convertToInteractive',\n",
              "                                                    [key], {});\n",
              "        if (!dataTable) return;\n",
              "\n",
              "        const docLinkHtml = 'Like what you see? Visit the ' +\n",
              "          '<a target=\"_blank\" href=https://colab.research.google.com/notebooks/data_table.ipynb>data table notebook</a>'\n",
              "          + ' to learn more about interactive tables.';\n",
              "        element.innerHTML = '';\n",
              "        dataTable['output_type'] = 'display_data';\n",
              "        await google.colab.output.renderOutput(dataTable, element);\n",
              "        const docLink = document.createElement('div');\n",
              "        docLink.innerHTML = docLinkHtml;\n",
              "        element.appendChild(docLink);\n",
              "      }\n",
              "    </script>\n",
              "  </div>\n",
              "\n",
              "\n",
              "<div id=\"df-26ff3b2e-6d55-4a13-8992-40b39d76b9af\">\n",
              "  <button class=\"colab-df-quickchart\" onclick=\"quickchart('df-26ff3b2e-6d55-4a13-8992-40b39d76b9af')\"\n",
              "            title=\"Suggest charts\"\n",
              "            style=\"display:none;\">\n",
              "\n",
              "<svg xmlns=\"http://www.w3.org/2000/svg\" height=\"24px\"viewBox=\"0 0 24 24\"\n",
              "     width=\"24px\">\n",
              "    <g>\n",
              "        <path d=\"M19 3H5c-1.1 0-2 .9-2 2v14c0 1.1.9 2 2 2h14c1.1 0 2-.9 2-2V5c0-1.1-.9-2-2-2zM9 17H7v-7h2v7zm4 0h-2V7h2v10zm4 0h-2v-4h2v4z\"/>\n",
              "    </g>\n",
              "</svg>\n",
              "  </button>\n",
              "\n",
              "<style>\n",
              "  .colab-df-quickchart {\n",
              "      --bg-color: #E8F0FE;\n",
              "      --fill-color: #1967D2;\n",
              "      --hover-bg-color: #E2EBFA;\n",
              "      --hover-fill-color: #174EA6;\n",
              "      --disabled-fill-color: #AAA;\n",
              "      --disabled-bg-color: #DDD;\n",
              "  }\n",
              "\n",
              "  [theme=dark] .colab-df-quickchart {\n",
              "      --bg-color: #3B4455;\n",
              "      --fill-color: #D2E3FC;\n",
              "      --hover-bg-color: #434B5C;\n",
              "      --hover-fill-color: #FFFFFF;\n",
              "      --disabled-bg-color: #3B4455;\n",
              "      --disabled-fill-color: #666;\n",
              "  }\n",
              "\n",
              "  .colab-df-quickchart {\n",
              "    background-color: var(--bg-color);\n",
              "    border: none;\n",
              "    border-radius: 50%;\n",
              "    cursor: pointer;\n",
              "    display: none;\n",
              "    fill: var(--fill-color);\n",
              "    height: 32px;\n",
              "    padding: 0;\n",
              "    width: 32px;\n",
              "  }\n",
              "\n",
              "  .colab-df-quickchart:hover {\n",
              "    background-color: var(--hover-bg-color);\n",
              "    box-shadow: 0 1px 2px rgba(60, 64, 67, 0.3), 0 1px 3px 1px rgba(60, 64, 67, 0.15);\n",
              "    fill: var(--button-hover-fill-color);\n",
              "  }\n",
              "\n",
              "  .colab-df-quickchart-complete:disabled,\n",
              "  .colab-df-quickchart-complete:disabled:hover {\n",
              "    background-color: var(--disabled-bg-color);\n",
              "    fill: var(--disabled-fill-color);\n",
              "    box-shadow: none;\n",
              "  }\n",
              "\n",
              "  .colab-df-spinner {\n",
              "    border: 2px solid var(--fill-color);\n",
              "    border-color: transparent;\n",
              "    border-bottom-color: var(--fill-color);\n",
              "    animation:\n",
              "      spin 1s steps(1) infinite;\n",
              "  }\n",
              "\n",
              "  @keyframes spin {\n",
              "    0% {\n",
              "      border-color: transparent;\n",
              "      border-bottom-color: var(--fill-color);\n",
              "      border-left-color: var(--fill-color);\n",
              "    }\n",
              "    20% {\n",
              "      border-color: transparent;\n",
              "      border-left-color: var(--fill-color);\n",
              "      border-top-color: var(--fill-color);\n",
              "    }\n",
              "    30% {\n",
              "      border-color: transparent;\n",
              "      border-left-color: var(--fill-color);\n",
              "      border-top-color: var(--fill-color);\n",
              "      border-right-color: var(--fill-color);\n",
              "    }\n",
              "    40% {\n",
              "      border-color: transparent;\n",
              "      border-right-color: var(--fill-color);\n",
              "      border-top-color: var(--fill-color);\n",
              "    }\n",
              "    60% {\n",
              "      border-color: transparent;\n",
              "      border-right-color: var(--fill-color);\n",
              "    }\n",
              "    80% {\n",
              "      border-color: transparent;\n",
              "      border-right-color: var(--fill-color);\n",
              "      border-bottom-color: var(--fill-color);\n",
              "    }\n",
              "    90% {\n",
              "      border-color: transparent;\n",
              "      border-bottom-color: var(--fill-color);\n",
              "    }\n",
              "  }\n",
              "</style>\n",
              "\n",
              "  <script>\n",
              "    async function quickchart(key) {\n",
              "      const quickchartButtonEl =\n",
              "        document.querySelector('#' + key + ' button');\n",
              "      quickchartButtonEl.disabled = true;  // To prevent multiple clicks.\n",
              "      quickchartButtonEl.classList.add('colab-df-spinner');\n",
              "      try {\n",
              "        const charts = await google.colab.kernel.invokeFunction(\n",
              "            'suggestCharts', [key], {});\n",
              "      } catch (error) {\n",
              "        console.error('Error during call to suggestCharts:', error);\n",
              "      }\n",
              "      quickchartButtonEl.classList.remove('colab-df-spinner');\n",
              "      quickchartButtonEl.classList.add('colab-df-quickchart-complete');\n",
              "    }\n",
              "    (() => {\n",
              "      let quickchartButtonEl =\n",
              "        document.querySelector('#df-26ff3b2e-6d55-4a13-8992-40b39d76b9af button');\n",
              "      quickchartButtonEl.style.display =\n",
              "        google.colab.kernel.accessAllowed ? 'block' : 'none';\n",
              "    })();\n",
              "  </script>\n",
              "</div>\n",
              "\n",
              "  <div id=\"id_f1156b88-fb45-4a0a-9933-e5a163af3c1a\">\n",
              "    <style>\n",
              "      .colab-df-generate {\n",
              "        background-color: #E8F0FE;\n",
              "        border: none;\n",
              "        border-radius: 50%;\n",
              "        cursor: pointer;\n",
              "        display: none;\n",
              "        fill: #1967D2;\n",
              "        height: 32px;\n",
              "        padding: 0 0 0 0;\n",
              "        width: 32px;\n",
              "      }\n",
              "\n",
              "      .colab-df-generate:hover {\n",
              "        background-color: #E2EBFA;\n",
              "        box-shadow: 0px 1px 2px rgba(60, 64, 67, 0.3), 0px 1px 3px 1px rgba(60, 64, 67, 0.15);\n",
              "        fill: #174EA6;\n",
              "      }\n",
              "\n",
              "      [theme=dark] .colab-df-generate {\n",
              "        background-color: #3B4455;\n",
              "        fill: #D2E3FC;\n",
              "      }\n",
              "\n",
              "      [theme=dark] .colab-df-generate:hover {\n",
              "        background-color: #434B5C;\n",
              "        box-shadow: 0px 1px 3px 1px rgba(0, 0, 0, 0.15);\n",
              "        filter: drop-shadow(0px 1px 2px rgba(0, 0, 0, 0.3));\n",
              "        fill: #FFFFFF;\n",
              "      }\n",
              "    </style>\n",
              "    <button class=\"colab-df-generate\" onclick=\"generateWithVariable('correlation_matrix')\"\n",
              "            title=\"Generate code using this dataframe.\"\n",
              "            style=\"display:none;\">\n",
              "\n",
              "  <svg xmlns=\"http://www.w3.org/2000/svg\" height=\"24px\"viewBox=\"0 0 24 24\"\n",
              "       width=\"24px\">\n",
              "    <path d=\"M7,19H8.4L18.45,9,17,7.55,7,17.6ZM5,21V16.75L18.45,3.32a2,2,0,0,1,2.83,0l1.4,1.43a1.91,1.91,0,0,1,.58,1.4,1.91,1.91,0,0,1-.58,1.4L9.25,21ZM18.45,9,17,7.55Zm-12,3A5.31,5.31,0,0,0,4.9,8.1,5.31,5.31,0,0,0,1,6.5,5.31,5.31,0,0,0,4.9,4.9,5.31,5.31,0,0,0,6.5,1,5.31,5.31,0,0,0,8.1,4.9,5.31,5.31,0,0,0,12,6.5,5.46,5.46,0,0,0,6.5,12Z\"/>\n",
              "  </svg>\n",
              "    </button>\n",
              "    <script>\n",
              "      (() => {\n",
              "      const buttonEl =\n",
              "        document.querySelector('#id_f1156b88-fb45-4a0a-9933-e5a163af3c1a button.colab-df-generate');\n",
              "      buttonEl.style.display =\n",
              "        google.colab.kernel.accessAllowed ? 'block' : 'none';\n",
              "\n",
              "      buttonEl.onclick = () => {\n",
              "        google.colab.notebook.generateWithVariable('correlation_matrix');\n",
              "      }\n",
              "      })();\n",
              "    </script>\n",
              "  </div>\n",
              "\n",
              "    </div>\n",
              "  </div>\n"
            ],
            "application/vnd.google.colaboratory.intrinsic+json": {
              "type": "dataframe",
              "variable_name": "correlation_matrix",
              "summary": "{\n  \"name\": \"correlation_matrix\",\n  \"rows\": 7,\n  \"fields\": [\n    {\n      \"column\": \"Transaction ID\",\n      \"properties\": {\n        \"dtype\": \"number\",\n        \"std\": 0.38774792229634175,\n        \"min\": -0.07503432030192882,\n        \"max\": 1.0,\n        \"num_unique_values\": 7,\n        \"samples\": [\n          1.0,\n          0.0651909464151411,\n          -0.005051665824173552\n        ],\n        \"semantic_type\": \"\",\n        \"description\": \"\"\n      }\n    },\n    {\n      \"column\": \"Age\",\n      \"properties\": {\n        \"dtype\": \"number\",\n        \"std\": 0.38017739907750236,\n        \"min\": -0.06056802388304549,\n        \"max\": 1.0,\n        \"num_unique_values\": 7,\n        \"samples\": [\n          0.0651909464151411,\n          1.0,\n          0.04189885758757071\n        ],\n        \"semantic_type\": \"\",\n        \"description\": \"\"\n      }\n    },\n    {\n      \"column\": \"Quantity\",\n      \"properties\": {\n        \"dtype\": \"number\",\n        \"std\": 0.3834281383490479,\n        \"min\": -0.026622522182497596,\n        \"max\": 1.0,\n        \"num_unique_values\": 7,\n        \"samples\": [\n          -0.026622522182497596,\n          -0.02373657887848414,\n          0.02964976993492897\n        ],\n        \"semantic_type\": \"\",\n        \"description\": \"\"\n      }\n    },\n    {\n      \"column\": \"Price per Unit\",\n      \"properties\": {\n        \"dtype\": \"number\",\n        \"std\": 0.45911607827537315,\n        \"min\": -0.06083662007088506,\n        \"max\": 1.0,\n        \"num_unique_values\": 7,\n        \"samples\": [\n          -0.06083662007088506,\n          -0.038422845126989714,\n          0.018302864499050223\n        ],\n        \"semantic_type\": \"\",\n        \"description\": \"\"\n      }\n    },\n    {\n      \"column\": \"Total Amount\",\n      \"properties\": {\n        \"dtype\": \"number\",\n        \"std\": 0.45006349922938044,\n        \"min\": -0.07503432030192882,\n        \"max\": 1.0,\n        \"num_unique_values\": 7,\n        \"samples\": [\n          -0.07503432030192882,\n          -0.06056802388304549,\n          0.036888881878176905\n        ],\n        \"semantic_type\": \"\",\n        \"description\": \"\"\n      }\n    },\n    {\n      \"column\": \"Day of the month\",\n      \"properties\": {\n        \"dtype\": \"number\",\n        \"std\": 0.37688230030472003,\n        \"min\": -0.07224387335376208,\n        \"max\": 1.0,\n        \"num_unique_values\": 7,\n        \"samples\": [\n          -0.005051665824173552,\n          0.04189885758757071,\n          1.0\n        ],\n        \"semantic_type\": \"\",\n        \"description\": \"\"\n      }\n    },\n    {\n      \"column\": \"Year\",\n      \"properties\": {\n        \"dtype\": \"number\",\n        \"std\": 0.3817435004492773,\n        \"min\": -0.07224387335376208,\n        \"max\": 1.0,\n        \"num_unique_values\": 7,\n        \"samples\": [\n          -0.010855219444934163,\n          0.023269278647264663,\n          -0.07224387335376208\n        ],\n        \"semantic_type\": \"\",\n        \"description\": \"\"\n      }\n    }\n  ]\n}"
            }
          },
          "metadata": {},
          "execution_count": 15
        }
      ]
    },
    {
      "cell_type": "markdown",
      "source": [
        "### 2. Visualize the correlation matrix using a heatmap"
      ],
      "metadata": {
        "id": "NaVVlKO422O3"
      }
    },
    {
      "cell_type": "code",
      "source": [
        "import matplotlib.pyplot as plt\n",
        "import seaborn as sns\n",
        "\n",
        "# Assuming 'correlation_matrix' is already computed as in the previous code\n",
        "\n",
        "plt.figure(figsize=(12, 10))\n",
        "sns.heatmap(correlation_matrix, annot=True, cmap='coolwarm', fmt=\".2f\")\n",
        "plt.title('Correlation Matrix Heatmap')\n",
        "plt.show()"
      ],
      "metadata": {
        "colab": {
          "base_uri": "https://localhost:8080/",
          "height": 961
        },
        "id": "tHnlolqQ26EH",
        "outputId": "b4fa6016-71e9-4801-ee3b-a87eff613c19"
      },
      "execution_count": null,
      "outputs": [
        {
          "output_type": "display_data",
          "data": {
            "text/plain": [
              "<Figure size 1200x1000 with 2 Axes>"
            ],
            "image/png": "[encoded data removed]"
          },
          "metadata": {}
        }
      ]
    },
    {
      "cell_type": "markdown",
      "source": [
        "### 3. Identify and discuss two key relationships from the heatmap\n"
      ],
      "metadata": {
        "id": "_XhVxCjY29YH"
      }
    },
    {
      "cell_type": "code",
      "source": [
        "# Assuming 'correlation_matrix' is the correlation matrix from the previous code\n",
        "# and the heatmap has been generated.\n",
        "\n",
        "# Example relationships (replace with actual observations from your heatmap):\n",
        "\n",
        "# Relationship 1:\n",
        "print(\"Relationship 1:\")\n",
        "print(\"Strong positive correlation between 'QuantitySold' and 'TotalSalesAmount'.\")\n",
        "print(\"This suggests that as the quantity sold increases, the total sales amount also tends to increase, which is expected.\")\n",
        "\n",
        "\n",
        "# Relationship 2:\n",
        "print(\"\\nRelationship 2:\")\n",
        "print(\"Weak negative correlation between 'DiscountApplied' and 'TotalSalesAmount'.\")\n",
        "print(\"This might indicate that when discounts are applied, the total sales amount may slightly decrease (due to reduced unit price), but the relationship might not be very significant.\")\n",
        "\n",
        "\n",
        "# Note: Replace the example relationships above with your actual observations\n",
        "# from the generated heatmap.  Describe the variables and the nature (positive, negative, strong, weak) of their correlation.\n"
      ],
      "metadata": {
        "colab": {
          "base_uri": "https://localhost:8080/"
        },
        "id": "8i7chudu3CDn",
        "outputId": "859291b5-e77a-45a5-a54b-b4f6b4928537"
      },
      "execution_count": null,
      "outputs": [
        {
          "output_type": "stream",
          "name": "stdout",
          "text": [
            "Relationship 1:\n",
            "Strong positive correlation between 'QuantitySold' and 'TotalSalesAmount'.\n",
            "This suggests that as the quantity sold increases, the total sales amount also tends to increase, which is expected.\n",
            "\n",
            "Relationship 2:\n",
            "Weak negative correlation between 'DiscountApplied' and 'TotalSalesAmount'.\n",
            "This might indicate that when discounts are applied, the total sales amount may slightly decrease (due to reduced unit price), but the relationship might not be very significant.\n"
          ]
        }
      ]
    },
    {
      "cell_type": "markdown",
      "source": [
        "# Deliverables"
      ],
      "metadata": {
        "id": "jdEeuWJm3Mf_"
      }
    },
    {
      "cell_type": "markdown",
      "source": [
        "Heatmap visualization\n",
        "A heatmap visualization of top product categories and regions would be a grid-like chart where:\n",
        "\n",
        "Rows represent product categories\n",
        "Columns represent geographic regions\n",
        "Cell Colors represent demand or growth intensity, typically shown with a gradient scale:\n",
        "Darker or more vibrant colors Lighter colors represent lower demand or slower growth.\n",
        "\n",
        "For instance:\n",
        "\n",
        "North America might show high demand (dark color) for Technology, Beauty, and Health & Wellness.\n",
        "Asia-Pacific could have high demand for Electronics and Fashion but moderate interest in Sustainability.\n",
        "Europe might show strong demand for Sustainability, Beauty, and Technology.\n",
        "The heatmap allows quick comparison:\n",
        "\n",
        "Vertical patterns indicate which product categories perform well globally.\n",
        "Horizontal patterns highlight which regions excel in specific categories.\n",
        "\n",
        "Observations about key correlations\n",
        "When analyzing a heatmap of product categories versus regions, several key correlations and insights often emerge:\n",
        "\n",
        "Regional Preferences Across Categories\n",
        "Technology tends to have strong demand globally, with the highest intensity in North America and Asia-Pacific, driven by innovation hubs and consumer adoption.\n",
        "Fashion and Beauty Products correlate with regions like Europe and Asia-Pacific, where trends and cosmetics are deeply embedded in the culture.\n",
        "Sustainability and Eco-friendly Products are most prominent in Europe and North America, reflecting consumer awareness and regulatory support.\n",
        "Emerging Markets and Growth Potential\n",
        "Regions like Latin America and Africa often show moderate demand across many categories, signaling potential growth opportunities, especially in Technology and E-commerce.\n",
        "Southeast Asia correlates strongly with fast-growing categories like Health & Wellness and Affordable Electronics, driven by a young, tech-savvy population.\n",
        "Technology as an Enabler\n",
        "There’s a clear link between regions with high adoption of Technology and other digital-dependent categories, such as E-learning and Gaming.\n",
        "Regions like North America and Asia-Pacific show high correlation between SaaS demand and strong Technology infrastructure.\n",
        "Culture and Consumer Behavior\n",
        "In Europe, the correlation between Sustainability and Beauty highlights a preference for eco-conscious personal care products. In Asia-Pacific, Electronics and Fashion show a synergy, as mobile technologies drive fast fashion trends through social commerce.\n",
        "Economic Maturity\n",
        "Developed regions like North America and Western Europe correlate with luxury products and high-end tech, while emerging markets focus more on affordable alternatives and essential categories.\n",
        "Insights from Overlapping Hotspots\n",
        "Overlapping hotspots on the heatmap indicate product categories with universal appeal, such as Health & Wellness and Technology. Gaps in intensity, like low demand for Sustainability in certain regions, could signal opportunities for market penetration.\n"
      ],
      "metadata": {
        "id": "MzXQATHn3QRn"
      }
    },
    {
      "cell_type": "markdown",
      "source": [
        "### 6. DataFrame Operations"
      ],
      "metadata": {
        "id": "_lw9MuYq3VgP"
      }
    },
    {
      "cell_type": "markdown",
      "source": [
        "### 1. Use loc to extract sales data for a specific date or range of dates.\n"
      ],
      "metadata": {
        "id": "hbpxiNOJ3bX_"
      }
    }
  ],
  "metadata": {
    "colab": {
      "name": "Welcome To Colab",
      "provenance": [],
      "include_colab_link": true
    },
    "kernelspec": {
      "display_name": "Python 3",
      "name": "python3"
    }
  },
  "nbformat": 4,
  "nbformat_minor": 0
}